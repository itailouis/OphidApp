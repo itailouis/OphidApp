{
 "cells": [
  {
   "cell_type": "code",
   "execution_count": 8,
   "id": "0f73ea50",
   "metadata": {},
   "outputs": [],
   "source": [
    "from requests.auth import HTTPDigestAuth\n",
    "import requests\n",
    "import xml.etree.ElementTree as ET\n",
    "\n",
    "def get_submissions():\n",
    "    host=\"http://forms.southafricanorth.clouldapp.azure.com\\v1\"\n",
    "    form_id=1\n",
    "    user=\"dataviewer@ophid.co.zw\"\n",
    "    pw=\"pass\"\n",
    "    base_format = 'https://%(host)s/view/%(api)s?formId=%(form_id)s'\n",
    "    submission_format = '[@version=null and @uiVersion=null]/%(group_name)s[@key=%(uuid)s]'\n",
    "    auth = HTTPDigestAuth(user, pw)\n",
    "    result = requests.get(base_format % {'form_id': 1,\n",
    "                                         #formName\n",
    "                                         'api': 'submissionList',\n",
    "                                         'host': \"http://forms.southafricanorth.clouldapp.azure.com\\v1\"},\n",
    "                          auth=auth)\n",
    "    root = ET.fromstring(result.text)\n",
    "    idlist, cursor = [child for child in root]\n",
    "    result = []\n",
    "    for uuid in [i.text for i in idlist]:\n",
    "        url = (base_format % {'form_id': form_id,\n",
    "                              'api': 'downloadSubmission',\n",
    "                              'host': host} +\n",
    "               submission_format % {'group_name': 'plant_form',\n",
    "                                    'uuid': uuid})\n",
    "        reply = requests.get(url, auth=auth)\n",
    "        root = ET.fromstring(reply.text)\n",
    "        [data for data in root]\n",
    "        [form for form in data]\n",
    "        result.append(dict([(i.tag.replace('{http://forms.southafricanorth.clouldapp.azure.com\\v1}', ''), i.text) \n",
    "                            for i in form]))\n",
    "    return result"
   ]
  },
  {
   "cell_type": "code",
   "execution_count": 7,
   "id": "fa00c6a1",
   "metadata": {},
   "outputs": [
    {
     "name": "stdout",
     "output_type": "stream",
     "text": [
      "<function get_submissions at 0x0000014F7E804A60>\n"
     ]
    }
   ],
   "source": [
    "print(get_submissions)"
   ]
  },
  {
   "cell_type": "code",
   "execution_count": null,
   "id": "8d046a8b",
   "metadata": {},
   "outputs": [],
   "source": []
  }
 ],
 "metadata": {
  "kernelspec": {
   "display_name": "Python 3",
   "language": "python",
   "name": "python3"
  },
  "language_info": {
   "codemirror_mode": {
    "name": "ipython",
    "version": 3
   },
   "file_extension": ".py",
   "mimetype": "text/x-python",
   "name": "python",
   "nbconvert_exporter": "python",
   "pygments_lexer": "ipython3",
   "version": "3.8.8"
  }
 },
 "nbformat": 4,
 "nbformat_minor": 5
}
